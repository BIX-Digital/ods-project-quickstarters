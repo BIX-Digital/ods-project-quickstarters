{
 "cells": [
  {
   "cell_type": "code",
   "execution_count": 6,
   "metadata": {},
   "outputs": [],
   "source": [
    "# to be able to read environment variables\n",
    "import os\n",
    "\n",
    "# for convienient Dataframe handling\n",
    "import pandas as pd\n",
    "\n",
    "# set java classpath before importing jaydebeapi\n",
    "os.environ[\"CLASSPATH\"] = \"/usr/lib/hive/lib/*\"\n",
    "\n",
    "# jdbc python client\n",
    "import jaydebeapi\n",
    "\n",
    "\n",
    "conn = jaydebeapi.connect(\"org.apache.hive.jdbc.HiveDriver\", \n",
    "                          os.environ[\"HIVE_URL\"],\n",
    "                          [os.environ[\"HIVE_USER\"], os.environ[\"HIVE_PASSWORD\"]],\n",
    "                          jars=\"/usr/lib/hive/lib/hive-jdbc.jar\")\n",
    "\n",
    "df = pd.read_sql(\"SELECT * FROM users\", conn)\n",
    "\n",
    "df.head(15)"
   ]
  }
 ],
 "metadata": {
  "kernelspec": {
   "display_name": "Python 2",
   "language": "python",
   "name": "python2"
  },
  "language_info": {
   "codemirror_mode": {
    "name": "ipython",
    "version": 2
   },
   "file_extension": ".py",
   "mimetype": "text/x-python",
   "name": "python",
   "nbconvert_exporter": "python",
   "pygments_lexer": "ipython2",
   "version": "2.7.12"
  }
 },
 "nbformat": 4,
 "nbformat_minor": 2
}
